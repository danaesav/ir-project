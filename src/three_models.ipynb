{
 "cells": [
  {
   "metadata": {},
   "cell_type": "markdown",
   "source": "# Imports",
   "id": "3f9dad999aea79a9"
  },
  {
   "metadata": {
    "ExecuteTime": {
     "end_time": "2025-04-01T00:48:39.776434Z",
     "start_time": "2025-04-01T00:48:36.606950Z"
    }
   },
   "cell_type": "code",
   "source": [
    "import pathlib\n",
    "import sys\n",
    "import os\n",
    "# sys.path.insert(0, os.path.abspath(os.path.join(os.path.dirname(__file__), '..')))\n",
    "\n",
    "import torch\n",
    "import numpy as np\n",
    "import pyterrier as pt\n",
    "from pathlib import Path\n",
    "\n",
    "from pyterrier.datasets import Dataset\n",
    "from pyterrier.measures import *\n",
    "from fast_forward.encoder import TASBEncoder, ContrieverEncoder\n",
    "import torch\n",
    "from fast_forward.index import OnDiskIndex, Mode\n",
    "from fast_forward.util import Indexer\n",
    "from fast_forward.util.pyterrier import FFInterpolate\n",
    "from fast_forward.util import Indexer\n",
    "from pyterrier.terrier import Retriever\n",
    "\n",
    "from fusions.FFTM2C2 import FFTM2C2\n",
    "from fast_forward.util.pyterrier import FFScore\n",
    "\n",
    "from fusions.experiment import fuse_convex_norm\n",
    "\n",
    "device=\"cuda:0\" if torch.cuda.is_available() else \"cpu\"\n",
    "print(torch.__version__)\n"
   ],
   "id": "c1923b85c6cac194",
   "outputs": [
    {
     "name": "stderr",
     "output_type": "stream",
     "text": [
      "/home/henry/anaconda3/envs/ir-env/lib/python3.12/site-packages/tqdm/auto.py:21: TqdmWarning: IProgress not found. Please update jupyter and ipywidgets. See https://ipywidgets.readthedocs.io/en/stable/user_install.html\n",
      "  from .autonotebook import tqdm as notebook_tqdm\n"
     ]
    },
    {
     "name": "stdout",
     "output_type": "stream",
     "text": [
      "2.6.0+cu124\n"
     ]
    }
   ],
   "execution_count": 1
  },
  {
   "metadata": {},
   "cell_type": "markdown",
   "source": "# Dataset Selection",
   "id": "4da16c45d148213b"
  },
  {
   "metadata": {
    "ExecuteTime": {
     "end_time": "2025-04-01T00:48:52.159250Z",
     "start_time": "2025-04-01T00:48:39.793274Z"
    }
   },
   "cell_type": "code",
   "source": [
    "# Dataset Selection: https://pyterrier.readthedocs.io/en/latest/datasets.html\n",
    "dataset_name = \"irds:beir/fiqa\"\n",
    "dataset = pt.get_dataset(dataset_name)\n",
    "testset = pt.get_dataset(dataset_name + \"/test\")\n",
    "\n",
    "# Indexing\n",
    "indexer = pt.IterDictIndexer(\n",
    "    str(Path.cwd()),  # this will be ignored\n",
    "    type=pt.index.IndexingType.MEMORY,\n",
    ")\n",
    "index_ref = indexer.index(dataset.get_corpus_iter(), fields=[\"text\"])"
   ],
   "id": "982bb7afd490eb6e",
   "outputs": [
    {
     "name": "stderr",
     "output_type": "stream",
     "text": [
      "Java started (triggered by TerrierIndexer.__init__) and loaded: pyterrier.java, pyterrier.terrier.java [version=5.11 (build: craig.macdonald 2025-01-13 21:29), helper_version=0.0.8]\n",
      "beir/fiqa documents: 100%|██████████| 57638/57638 [00:11<00:00, 4803.97it/s]\n"
     ]
    }
   ],
   "execution_count": 2
  },
  {
   "metadata": {},
   "cell_type": "markdown",
   "source": "# Retriever Configuration",
   "id": "8d591fa21b95d460"
  },
  {
   "metadata": {
    "ExecuteTime": {
     "end_time": "2025-04-01T00:48:53.863126Z",
     "start_time": "2025-04-01T00:48:52.162208Z"
    }
   },
   "cell_type": "code",
   "source": [
    "# BM25\n",
    "bm25 = pt.terrier.Retriever(index_ref, wmodel=\"BM25\")\n",
    "tasb_q_encoder =  tasb_d_encoder = TASBEncoder(device=device)\n",
    "con_q_encoder = con_d_encoder = ContrieverEncoder(device=device)"
   ],
   "id": "fea43aa98b5f01b1",
   "outputs": [],
   "execution_count": 3
  },
  {
   "metadata": {
    "ExecuteTime": {
     "end_time": "2025-04-01T00:48:54.641801Z",
     "start_time": "2025-04-01T00:48:53.870277Z"
    }
   },
   "cell_type": "code",
   "source": [
    "safe_dataset_name = dataset_name.replace(\":\", \"_\").replace(\"/\", \"_\")\n",
    "# Define index paths for both models\n",
    "tasb_index_path = Path(f\"../indexes/ffindex_{safe_dataset_name}_tasb.h5\")\n",
    "con_index_path = Path(f\"../indexes/ffindex_{safe_dataset_name}_con.h5\")\n",
    "\n",
    "def load_or_create_index(index_path: pathlib.Path, q_encoder, d_encoder):\n",
    "    print(index_path.exists())\n",
    "    try:\n",
    "        ff_index = OnDiskIndex.load(\n",
    "            index_path,\n",
    "            query_encoder=q_encoder,\n",
    "            mode=Mode.MAXP,\n",
    "        )\n",
    "    except FileNotFoundError:\n",
    "        index_path.parent.mkdir(exist_ok=True, parents=True)\n",
    "        ff_index = OnDiskIndex(\n",
    "            index_path,\n",
    "            query_encoder=q_encoder,\n",
    "            mode=Mode.MAXP,\n",
    "        )\n",
    "        from fast_forward.util import Indexer\n",
    "\n",
    "        def docs_iter():\n",
    "            for d in dataset.get_corpus_iter():\n",
    "                yield {\"doc_id\": d[\"docno\"], \"text\": d[\"text\"]}\n",
    "\n",
    "        Indexer(ff_index, d_encoder, batch_size=8).from_dicts(docs_iter())\n",
    "\n",
    "    return ff_index.to_memory()\n",
    "\n",
    "tasb_index = load_or_create_index(tasb_index_path, tasb_q_encoder, tasb_d_encoder)\n",
    "con_index = load_or_create_index(con_index_path, con_q_encoder, con_d_encoder)\n",
    "\n"
   ],
   "id": "6581fc585edb730e",
   "outputs": [
    {
     "name": "stdout",
     "output_type": "stream",
     "text": [
      "True\n"
     ]
    },
    {
     "name": "stderr",
     "output_type": "stream",
     "text": [
      "100%|██████████| 57638/57638 [00:00<00:00, 443034.08it/s]\n"
     ]
    },
    {
     "name": "stdout",
     "output_type": "stream",
     "text": [
      "True\n"
     ]
    },
    {
     "name": "stderr",
     "output_type": "stream",
     "text": [
      "100%|██████████| 57638/57638 [00:00<00:00, 435813.28it/s]\n"
     ]
    }
   ],
   "execution_count": 4
  },
  {
   "metadata": {
    "ExecuteTime": {
     "end_time": "2025-04-01T00:53:17.291593Z",
     "start_time": "2025-04-01T00:53:17.288835Z"
    }
   },
   "cell_type": "code",
   "source": [
    "\n",
    "ff_tasb = FFScore(tasb_index)\n",
    "ff_con = FFScore(con_index)\n",
    "RANK_CUTOFF = 50# change this for experiments\n",
    "\n",
    "# cutoff should be 1000 for experiments\n",
    "pipeline_0 = (bm25 % RANK_CUTOFF)\n",
    "pipeline_1 = bm25 % RANK_CUTOFF>> ff_tasb\n",
    "pipeline_2 = bm25 % RANK_CUTOFF >> ff_con\n",
    "\n",
    "\n"
   ],
   "id": "381b3dd75a2cda25",
   "outputs": [],
   "execution_count": 12
  },
  {
   "metadata": {
    "ExecuteTime": {
     "end_time": "2025-04-01T00:53:49.560038Z",
     "start_time": "2025-04-01T00:53:17.905921Z"
    }
   },
   "cell_type": "code",
   "source": [
    "\n",
    "def get_pipeline_result(pipeline: Retriever, ds: Dataset):\n",
    "    return pipeline.transform(ds.get_topics())\n",
    "\n",
    "res_1 = get_pipeline_result(pipeline_0,testset)\n",
    "res_2 = get_pipeline_result(pipeline_1,testset)\n",
    "res_3 = get_pipeline_result(pipeline_2,testset)\n"
   ],
   "id": "28d0290e708465b1",
   "outputs": [],
   "execution_count": 13
  },
  {
   "metadata": {
    "ExecuteTime": {
     "end_time": "2025-04-01T00:53:49.660705Z",
     "start_time": "2025-04-01T00:53:49.565076Z"
    }
   },
   "cell_type": "code",
   "source": [
    "fuse_res = fuse_convex_norm(\n",
    "    df1=res_1,\n",
    "    df2=res_2,\n",
    "    df3=res_3,\n",
    "    w1=0.2,\n",
    "    w2=0.4,\n",
    "    w3=0.4,\n",
    "    normalization_method_1=\"min_max\",\n",
    "    normalization_method_2=\"min_max\",\n",
    "    normalization_method_3=\"min_max\",\n",
    ")"
   ],
   "id": "337d8ee7fa723daa",
   "outputs": [
    {
     "name": "stderr",
     "output_type": "stream",
     "text": [
      "/home/henry/anaconda3/envs/ir-env/lib/python3.12/site-packages/pyterrier/model.py:31: SettingWithCopyWarning: \n",
      "A value is trying to be set on a copy of a slice from a DataFrame\n",
      "\n",
      "See the caveats in the documentation: https://pandas.pydata.org/pandas-docs/stable/user_guide/indexing.html#returning-a-view-versus-a-copy\n",
      "  df.drop(columns=[\"rank\"], errors=\"ignore\", inplace=True)\n",
      "/home/henry/anaconda3/envs/ir-env/lib/python3.12/site-packages/pyterrier/model.py:45: SettingWithCopyWarning: \n",
      "A value is trying to be set on a copy of a slice from a DataFrame.\n",
      "Try using .loc[row_indexer,col_indexer] = value instead\n",
      "\n",
      "See the caveats in the documentation: https://pandas.pydata.org/pandas-docs/stable/user_guide/indexing.html#returning-a-view-versus-a-copy\n",
      "  df[\"rank\"] = df.groupby(\"qid\", sort=False)[\"score\"].rank(ascending=False, method=\"first\").astype(int) -1 + FIRST_RANK\n"
     ]
    }
   ],
   "execution_count": 14
  },
  {
   "metadata": {
    "ExecuteTime": {
     "end_time": "2025-04-01T00:59:56.907455Z",
     "start_time": "2025-04-01T00:59:56.370325Z"
    }
   },
   "cell_type": "code",
   "source": [
    "result = pt.Experiment(\n",
    "\n",
    "    [res_1,res_2,res_3, fuse_res],\n",
    "    testset.get_topics(),\n",
    "    testset.get_qrels(),\n",
    "    eval_metrics=[RR @ 10, nDCG @ 10, MAP @ 100],\n",
    "    names=['bm25', 'bm25 >> TASB', 'bm25 >> Cont', 'fused'],\n",
    "    baseline=0,\n",
    "    correction=\"bonferroni\"\n",
    ")\n",
    "\n",
    "print(result)\n"
   ],
   "id": "9948063237238843",
   "outputs": [
    {
     "name": "stdout",
     "output_type": "stream",
     "text": [
      "           name   nDCG@10    AP@100     RR@10  nDCG@10 +  nDCG@10 -  \\\n",
      "0          bm25  0.252589  0.206640  0.310271        NaN        NaN   \n",
      "1  bm25 >> TASB  0.306769  0.250428  0.371344      204.0      111.0   \n",
      "2  bm25 >> Cont  0.278087  0.223183  0.342730      189.0      132.0   \n",
      "3         fused  0.319821  0.261455  0.393266      209.0       81.0   \n",
      "\n",
      "   nDCG@10 p-value  nDCG@10 reject  nDCG@10 p-value corrected  AP@100 +  \\\n",
      "0              NaN           False                        NaN       NaN   \n",
      "1     6.801317e-09            True               2.040395e-08     231.0   \n",
      "2     8.707841e-03            True               2.612352e-02     228.0   \n",
      "3     1.019503e-15            True               3.058508e-15     255.0   \n",
      "\n",
      "   AP@100 -  AP@100 p-value  AP@100 reject  AP@100 p-value corrected  RR@10 +  \\\n",
      "0       NaN             NaN          False                       NaN      NaN   \n",
      "1     142.0    5.456308e-07           True              1.636892e-06    170.0   \n",
      "2     156.0    6.522488e-02          False              1.956746e-01    161.0   \n",
      "3     101.0    2.384721e-12           True              7.154163e-12    173.0   \n",
      "\n",
      "   RR@10 -  RR@10 p-value  RR@10 reject  RR@10 p-value corrected  \n",
      "0      NaN            NaN         False                      NaN  \n",
      "1     96.0   3.302430e-06          True             9.907290e-06  \n",
      "2    113.0   1.663045e-02          True             4.989136e-02  \n",
      "3     66.0   6.024211e-12          True             1.807263e-11  \n"
     ]
    }
   ],
   "execution_count": 17
  },
  {
   "metadata": {},
   "cell_type": "code",
   "outputs": [],
   "execution_count": null,
   "source": "",
   "id": "47c64f807c6ec711"
  }
 ],
 "metadata": {
  "kernelspec": {
   "name": "python3",
   "language": "python",
   "display_name": "Python 3 (ipykernel)"
  }
 },
 "nbformat": 5,
 "nbformat_minor": 9
}
