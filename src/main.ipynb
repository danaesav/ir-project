{
 "cells": [
  {
   "cell_type": "markdown",
   "id": "c601f55fab0da22",
   "metadata": {},
   "source": [
    "# Information Retrieval"
   ]
  },
  {
   "cell_type": "code",
   "execution_count": null,
   "id": "690c3d140187efb7",
   "metadata": {
    "ExecuteTime": {
     "end_time": "2025-03-27T13:37:15.301593Z",
     "start_time": "2025-03-27T13:37:15.298593Z"
    }
   },
   "outputs": [],
   "source": [
    "import sys\n",
    "import os\n",
    "sys.path.insert(0, os.path.abspath(os.path.join(os.path.dirname(__file__), '..')))\n",
    "\n",
    "import torch\n",
    "import numpy as np\n",
    "import pyterrier as pt\n",
    "from pathlib import Path\n",
    "from pyterrier.measures import RR, nDCG, MAP\n",
    "from fast_forward.encoder import TASBEncoder\n",
    "import torch\n",
    "from fast_forward.index import OnDiskIndex, Mode\n",
    "from fast_forward.util import Indexer\n",
    "from fast_forward.util.pyterrier import FFInterpolate\n",
    "from fast_forward.util import Indexer\n",
    "\n",
    "from fusions.FFTM2C2 import FFTM2C2\n",
    "from fast_forward.util.pyterrier import FFScore\n",
    "device=\"cuda:0\" if torch.cuda.is_available() else \"cpu\"\n",
    "print(torch.__version__)"
   ]
  },
  {
   "cell_type": "markdown",
   "id": "30ad81720161b5cb",
   "metadata": {},
   "source": [
    "### Fusion Functions"
   ]
  },
  {
   "cell_type": "code",
   "execution_count": 14,
   "id": "1eb209887027a4b9",
   "metadata": {
    "ExecuteTime": {
     "end_time": "2025-03-27T13:37:15.317787Z",
     "start_time": "2025-03-27T13:37:15.313365Z"
    }
   },
   "outputs": [],
   "source": [
    "# Implement fusion functions reference: \n",
    "# https://github.com/mrjleo/fast-forward-indexes/blob/main/src/fast_forward/util/pyterrier.py\n",
    "class FFRRF(pt.Transformer):\n",
    "    \"\"\"\n",
    "    Fusion function implementing Reciprocal Rank Fusion (RRF):\n",
    "    - Computes hard ranks for BM25 and neural scores.\n",
    "    - Final score is the sum of reciprocals: 1/(k + rank) for each.\n",
    "    \"\"\"\n",
    "    def __init__(self, k=60):\n",
    "        self.k = k\n",
    "        super().__init__()\n",
    "        \n",
    "    def transform(self, df):\n",
    "        \"\"\"Transform using the RRF fusion method.\"\"\"\n",
    "        new_df = df[[\"qid\", \"docno\", \"query\"]].copy()\n",
    "        bm25_rank = df['score_0'].rank(method='min', ascending=False)\n",
    "        neural_rank = df['score'].rank(method='min', ascending=False)\n",
    "        new_df['score'] = 1 / (self.k + bm25_rank) + 1 / (self.k + neural_rank)\n",
    "        return pt.model.add_ranks(new_df, single_query=False)\n",
    "\n",
    "\n",
    "class FFSRRF(pt.Transformer):\n",
    "    \"\"\"\n",
    "    Fusion function implementing Soft Reciprocal Rank Fusion (SRRF):\n",
    "    - Computes a soft rank for BM25 and neural scores using a logistic function.\n",
    "    - Final score is computed similarly to RRF, but using the soft ranks.\n",
    "    \"\"\"\n",
    "    def __init__(self, k=60, beta=1.0):\n",
    "        self.k = k\n",
    "        self.beta = beta\n",
    "        super().__init__()\n",
    "\n",
    "    def transform(self, df):\n",
    "        \"\"\"Transform using the SRRF fusion method.\"\"\"\n",
    "        new_df = df[[\"qid\", \"docno\", \"query\"]].copy()\n",
    "\n",
    "        def compute_soft_rank(scores):\n",
    "            n = len(scores)\n",
    "            soft_ranks = np.ones(n)\n",
    "            for i in range(n):\n",
    "                soft_ranks[i] += np.sum(1 / (1 + np.exp(self.beta * (scores[i] - scores)))) - 1\n",
    "            return soft_ranks\n",
    "\n",
    "        bm25_scores = df['score_0'].values.astype(np.float32)\n",
    "        neural_scores = df['score'].values.astype(np.float32)\n",
    "        sr_bm25 = compute_soft_rank(bm25_scores)\n",
    "        sr_neural = compute_soft_rank(neural_scores)\n",
    "        new_df['score'] = 1 / (self.k + sr_bm25) + 1 / (self.k + sr_neural)\n",
    "        return pt.model.add_ranks(new_df, single_query=False)\n"
   ]
  },
  {
   "cell_type": "markdown",
   "id": "704b70bcdf89cab2",
   "metadata": {},
   "source": [
    "### Choose Datasets"
   ]
  },
  {
   "cell_type": "code",
   "execution_count": 15,
   "id": "563955bb99d43464",
   "metadata": {
    "ExecuteTime": {
     "end_time": "2025-03-27T13:37:26.179503Z",
     "start_time": "2025-03-27T13:37:15.318788Z"
    }
   },
   "outputs": [],
   "source": [
    "# Dataset Selection: https://pyterrier.readthedocs.io/en/latest/datasets.html\n",
    "dataset_name = \"irds:beir/fiqa\"\n",
    "dataset = pt.get_dataset(dataset_name)\n",
    "testset = pt.get_dataset(dataset_name + \"/test\")\n",
    "\n",
    "# Indexing\n",
    "indexer = pt.IterDictIndexer(\n",
    "    str(Path.cwd()),  # this will be ignored\n",
    "    type=pt.index.IndexingType.MEMORY,\n",
    ")\n",
    "index_ref = indexer.index(dataset.get_corpus_iter(), fields=[\"text\"])"
   ]
  },
  {
   "cell_type": "markdown",
   "id": "e6c261ff533b0e38",
   "metadata": {},
   "source": [
    "### Set up Retrievers"
   ]
  },
  {
   "cell_type": "code",
   "execution_count": 16,
   "id": "e4ef0eba5d4fca0b",
   "metadata": {
    "ExecuteTime": {
     "end_time": "2025-03-27T13:37:26.721747Z",
     "start_time": "2025-03-27T13:37:26.179503Z"
    }
   },
   "outputs": [],
   "source": [
    "from fast_forward.encoder import ContrieverEncoder\n",
    "\n",
    "# BM25\n",
    "bm25 = pt.terrier.Retriever(index_ref, wmodel=\"BM25\")\n",
    "\n",
    "# Encoding\n",
    "# To change the encoder, consult:\n",
    "# https://github.com/mrjleo/fast-forward-indexes/blob/main/src/fast_forward/encoder/transformer.py\n",
    "\n",
    "# Since china doesn't have access to huggingface, I have manually downloaded the model, feel free to comment this.\n",
    "# ------------------ From Here\n",
    "from transformers import AutoTokenizer, AutoModel\n",
    "# Contriever taken from huggingface\n",
    "local_model_path = 'C:/Users/win10 pro/Desktop/Danae_temp/ir-project/huggingface/TASBEncoder'\n",
    "tokenizer = AutoTokenizer.from_pretrained(local_model_path, local_files_only=True)\n",
    "model = AutoModel.from_pretrained(local_model_path, local_files_only=True)\n",
    "q_encoder = d_encoder = TASBEncoder(model=local_model_path, device=device)\n",
    "# -------------------- To here\n",
    "\n",
    "# And uncomment this\n",
    "# q_encoder = d_encoder = TASBEncoder(device=device)"
   ]
  },
  {
   "cell_type": "code",
   "execution_count": 17,
   "id": "2e52109942650d37",
   "metadata": {
    "ExecuteTime": {
     "end_time": "2025-03-27T13:37:26.975001Z",
     "start_time": "2025-03-27T13:37:26.721747Z"
    }
   },
   "outputs": [],
   "source": [
    "safe_dataset_name = dataset_name.replace(\":\", \"_\").replace(\"/\", \"_\")\n",
    "ff_index_path = Path(f\"../indexes/ffindex_{safe_dataset_name}_tasb2.h5\")\n",
    "    # Path.cwd().joinpath(\"indexes\", f\"ffindex_{safe_dataset_name}_tasb2.h5\"))\n",
    "print(ff_index_path.exists())\n",
    "\n",
    "# Create parent directory if it doesn't exist.\n",
    "# try: \n",
    "ff_index = OnDiskIndex.load(\n",
    "    ff_index_path,\n",
    "    query_encoder=q_encoder,\n",
    "    mode=Mode.MAXP,\n",
    ")\n",
    "# except FileNotFoundError:\n",
    "#     ff_index_path.parent.mkdir(exist_ok=True, parents=True)\n",
    "#     ff_index = OnDiskIndex(\n",
    "#         ff_index_path,\n",
    "#         query_encoder=q_encoder,\n",
    "#         mode=Mode.MAXP,\n",
    "#     )\n",
    "#     from fast_forward.util import Indexer\n",
    "#     def docs_iter():\n",
    "#         for d in dataset.get_corpus_iter():\n",
    "#             yield {\"doc_id\": d[\"docno\"], \"text\": d[\"text\"]}\n",
    "# \n",
    "#     Indexer(ff_index, d_encoder, batch_size=8).from_dicts(docs_iter())\n",
    "\n",
    "\n",
    "ff_index = ff_index.to_memory()"
   ]
  },
  {
   "cell_type": "markdown",
   "id": "fd40e1b1233d43f7",
   "metadata": {},
   "source": [
    "### Get scores and setup fusion techniques"
   ]
  },
  {
   "cell_type": "code",
   "execution_count": 18,
   "id": "9a13079476b8a192",
   "metadata": {
    "ExecuteTime": {
     "end_time": "2025-03-27T13:37:32.845478Z",
     "start_time": "2025-03-27T13:37:26.976002Z"
    }
   },
   "outputs": [],
   "source": [
    "ff_score = FFScore(ff_index)\n",
    "candidates = (bm25 % 5)(testset.get_topics())\n",
    "re_ranked = ff_score(candidates)\n",
    "\n",
    "hybrid = bm25 % 1000 >> ff_score\n",
    "ff_int = FFInterpolate(alpha=0.5)\n",
    "ff_int(re_ranked)\n",
    "ff_tm2c2 = FFTM2C2()\n",
    "ff_tm2c2(re_ranked)\n",
    "ff_rrf = FFRRF()\n",
    "ff_srrf = FFSRRF()\n",
    "ff_rrf(re_ranked)\n",
    "ff_srrf(re_ranked)"
   ]
  },
  {
   "cell_type": "markdown",
   "id": "4626ecd1c30e616b",
   "metadata": {},
   "source": [
    "### Experiment/Evaluation"
   ]
  },
  {
   "cell_type": "code",
   "execution_count": 19,
   "id": "31c0f12d8068aa50",
   "metadata": {
    "ExecuteTime": {
     "end_time": "2025-03-27T13:37:38.553187Z",
     "start_time": "2025-03-27T13:37:32.845478Z"
    }
   },
   "outputs": [
    {
     "name": "stdout",
     "output_type": "stream",
     "text": []
    }
   ],
   "source": [
    "result = pt.Experiment(\n",
    "    [bm25, hybrid >> ff_int,  hybrid >> ff_tm2c2],\n",
    "    testset.get_topics(),\n",
    "    testset.get_qrels(),\n",
    "    eval_metrics=[RR(10), nDCG(10), MAP(100)],\n",
    "    names=[\"BM25\", \"linear(alpha = 0.5)\", \"TM2C2\"],\n",
    "    baseline=0,\n",
    "    correction=\"bonferroni\"\n",
    ")\n",
    "\n",
    "print(result)"
   ]
  },
  {
   "cell_type": "markdown",
   "id": "2b7a401343dcb0ef",
   "metadata": {},
   "source": []
  }
 ],
 "metadata": {
  "kernelspec": {
   "display_name": "Python 3",
   "language": "python",
   "name": "python3"
  },
  "language_info": {
   "codemirror_mode": {
    "name": "ipython",
    "version": 2
   },
   "file_extension": ".py",
   "mimetype": "text/x-python",
   "name": "python",
   "nbconvert_exporter": "python",
   "pygments_lexer": "ipython2",
   "version": "2.7.6"
  }
 },
 "nbformat": 4,
 "nbformat_minor": 5
}
