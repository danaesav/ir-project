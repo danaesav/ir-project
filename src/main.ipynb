{
 "cells": [
  {
   "metadata": {},
   "cell_type": "markdown",
   "source": "# Information Retrieval",
   "id": "c601f55fab0da22"
  },
  {
   "metadata": {
    "ExecuteTime": {
     "end_time": "2025-03-31T00:54:51.179775Z",
     "start_time": "2025-03-31T00:54:51.175942Z"
    }
   },
   "cell_type": "code",
   "source": [
    "import sys\n",
    "import os\n",
    "# sys.path.insert(0, os.path.abspath(os.path.join(os.path.dirname(__file__), '..')))\n",
    "\n",
    "import torch\n",
    "import numpy as np\n",
    "import pyterrier as pt\n",
    "from pathlib import Path\n",
    "from pyterrier.measures import *\n",
    "from fast_forward.encoder import TASBEncoder\n",
    "import torch\n",
    "from fast_forward.index import OnDiskIndex, Mode\n",
    "from fast_forward.util import Indexer\n",
    "from fast_forward.util.pyterrier import FFInterpolate\n",
    "from fast_forward.util import Indexer\n",
    "\n",
    "from fusions.FFTM2C2 import FFTM2C2\n",
    "from fast_forward.util.pyterrier import FFScore\n",
    "device=\"cuda:0\" if torch.cuda.is_available() else \"cpu\"\n",
    "print(torch.__version__)"
   ],
   "id": "690c3d140187efb7",
   "outputs": [
    {
     "name": "stdout",
     "output_type": "stream",
     "text": [
      "2.6.0+cu124\n"
     ]
    }
   ],
   "execution_count": 8
  },
  {
   "metadata": {},
   "cell_type": "markdown",
   "source": "### Fusion Functions",
   "id": "30ad81720161b5cb"
  },
  {
   "metadata": {
    "ExecuteTime": {
     "end_time": "2025-03-31T00:54:53.376360Z",
     "start_time": "2025-03-31T00:54:53.370600Z"
    }
   },
   "cell_type": "code",
   "source": [
    "# Implement fusion functions reference: \n",
    "# https://github.com/mrjleo/fast-forward-indexes/blob/main/src/fast_forward/util/pyterrier.py\n",
    "class FFRRF(pt.Transformer):\n",
    "    \"\"\"\n",
    "    Fusion function implementing Reciprocal Rank Fusion (RRF):\n",
    "    - Computes hard ranks for BM25 and neural scores.\n",
    "    - Final score is the sum of reciprocals: 1/(k + rank) for each.\n",
    "    \"\"\"\n",
    "    def __init__(self, k=60):\n",
    "        self.k = k\n",
    "        super().__init__()\n",
    "        \n",
    "    def transform(self, df):\n",
    "        \"\"\"Transform using the RRF fusion method.\"\"\"\n",
    "        new_df = df[[\"qid\", \"docno\", \"query\"]].copy()\n",
    "        bm25_rank = df['score_0'].rank(method='min', ascending=False)\n",
    "        neural_rank = df['score'].rank(method='min', ascending=False)\n",
    "        new_df['score'] = 1 / (self.k + bm25_rank) + 1 / (self.k + neural_rank)\n",
    "        return pt.model.add_ranks(new_df, single_query=False)\n",
    "\n",
    "\n",
    "class FFSRRF(pt.Transformer):\n",
    "    \"\"\"\n",
    "    Fusion function implementing Soft Reciprocal Rank Fusion (SRRF):\n",
    "    - Computes a soft rank for BM25 and neural scores using a logistic function.\n",
    "    - Final score is computed similarly to RRF, but using the soft ranks.\n",
    "    \"\"\"\n",
    "    def __init__(self, k=60, beta=1.0):\n",
    "        self.k = k\n",
    "        self.beta = beta\n",
    "        super().__init__()\n",
    "\n",
    "    def transform(self, df):\n",
    "        \"\"\"Transform using the SRRF fusion method.\"\"\"\n",
    "        new_df = df[[\"qid\", \"docno\", \"query\"]].copy()\n",
    "\n",
    "        def compute_soft_rank(scores):\n",
    "            n = len(scores)\n",
    "            soft_ranks = np.ones(n)\n",
    "            for i in range(n):\n",
    "                soft_ranks[i] += np.sum(1 / (1 + np.exp(self.beta * (scores[i] - scores)))) - 1\n",
    "            return soft_ranks\n",
    "\n",
    "        bm25_scores = df['score_0'].values.astype(np.float32)\n",
    "        neural_scores = df['score'].values.astype(np.float32)\n",
    "        sr_bm25 = compute_soft_rank(bm25_scores)\n",
    "        sr_neural = compute_soft_rank(neural_scores)\n",
    "        new_df['score'] = 1 / (self.k + sr_bm25) + 1 / (self.k + sr_neural)\n",
    "        return pt.model.add_ranks(new_df, single_query=False)\n"
   ],
   "id": "1eb209887027a4b9",
   "outputs": [],
   "execution_count": 9
  },
  {
   "metadata": {},
   "cell_type": "markdown",
   "source": "### Choose Datasets",
   "id": "704b70bcdf89cab2"
  },
  {
   "metadata": {
    "ExecuteTime": {
     "end_time": "2025-03-31T00:56:15.032070Z",
     "start_time": "2025-03-31T00:56:03.817358Z"
    }
   },
   "cell_type": "code",
   "source": [
    "# Dataset Selection: https://pyterrier.readthedocs.io/en/latest/datasets.html\n",
    "dataset_name = \"irds:beir/fiqa\"\n",
    "dataset = pt.get_dataset(dataset_name)\n",
    "testset = pt.get_dataset(dataset_name + \"/test\")\n",
    "\n",
    "# Indexing\n",
    "indexer = pt.IterDictIndexer(\n",
    "    str(Path.cwd()),  # this will be ignored\n",
    "    type=pt.index.IndexingType.MEMORY,\n",
    ")\n",
    "index_ref = indexer.index(dataset.get_corpus_iter(), fields=[\"text\"])"
   ],
   "id": "563955bb99d43464",
   "outputs": [
    {
     "name": "stderr",
     "output_type": "stream",
     "text": [
      "beir/fiqa documents: 100%|██████████| 57638/57638 [00:11<00:00, 5149.62it/s]\n"
     ]
    }
   ],
   "execution_count": 13
  },
  {
   "metadata": {},
   "cell_type": "markdown",
   "source": "### Set up Retrievers",
   "id": "e6c261ff533b0e38"
  },
  {
   "metadata": {
    "ExecuteTime": {
     "end_time": "2025-03-31T00:56:27.592237Z",
     "start_time": "2025-03-31T00:56:26.973905Z"
    }
   },
   "cell_type": "code",
   "source": [
    "from fast_forward.encoder import ContrieverEncoder\n",
    "\n",
    "# BM25\n",
    "bm25 = pt.terrier.Retriever(index_ref, wmodel=\"BM25\")\n",
    "\n",
    "# Encoding\n",
    "# To change the encoder, consult:\n",
    "# https://github.com/mrjleo/fast-forward-indexes/blob/main/src/fast_forward/encoder/transformer.py\n",
    "\n",
    "# Since china doesn't have access to huggingface, I have manually downloaded the model, feel free to comment this.\n",
    "# ------------------ From Here\n",
    "# from transformers import AutoTokenizer, AutoModel\n",
    "# # Contriever taken from huggingface\n",
    "# local_model_path = 'C:/Users/win10 pro/Desktop/Danae_temp/ir-project/huggingface/TASBEncoder'\n",
    "# tokenizer = AutoTokenizer.from_pretrained(local_model_path, local_files_only=True)\n",
    "# model = AutoModel.from_pretrained(local_model_path, local_files_only=True)\n",
    "# q_encoder = d_encoder = TASBEncoder(model=local_model_path, device=device)\n",
    "# -------------------- To here\n",
    "\n",
    "# And uncomment this\n",
    "q_encoder = d_encoder = TASBEncoder(device=device)"
   ],
   "id": "e4ef0eba5d4fca0b",
   "outputs": [],
   "execution_count": 14
  },
  {
   "metadata": {
    "ExecuteTime": {
     "end_time": "2025-03-31T00:56:34.948532Z",
     "start_time": "2025-03-31T00:56:34.868042Z"
    }
   },
   "cell_type": "code",
   "source": [
    "safe_dataset_name = dataset_name.replace(\":\", \"_\").replace(\"/\", \"_\")\n",
    "ff_index_path = Path(f\"../indexes/ffindex_{safe_dataset_name}_tasb.h5\")\n",
    "    # Path.cwd().joinpath(\"indexes\", f\"ffindex_{safe_dataset_name}_tasb2.h5\"))\n",
    "print(ff_index_path.exists())\n",
    "\n",
    "# Create parent directory if it doesn't exist.\n",
    "# try: \n",
    "ff_index = OnDiskIndex.load(\n",
    "    ff_index_path,\n",
    "    query_encoder=q_encoder,\n",
    "    mode=Mode.MAXP,\n",
    ")\n",
    "# except FileNotFoundError:\n",
    "#     ff_index_path.parent.mkdir(exist_ok=True, parents=True)\n",
    "#     ff_index = OnDiskIndex(\n",
    "#         ff_index_path,\n",
    "#         query_encoder=q_encoder,\n",
    "#         mode=Mode.MAXP,\n",
    "#     )\n",
    "#     from fast_forward.util import Indexer\n",
    "#     def docs_iter():\n",
    "#         for d in dataset.get_corpus_iter():\n",
    "#             yield {\"doc_id\": d[\"docno\"], \"text\": d[\"text\"]}\n",
    "# \n",
    "#     Indexer(ff_index, d_encoder, batch_size=8).from_dicts(docs_iter())\n",
    "\n",
    "\n",
    "ff_index = ff_index.to_memory()"
   ],
   "id": "2e52109942650d37",
   "outputs": [
    {
     "name": "stdout",
     "output_type": "stream",
     "text": [
      "False\n"
     ]
    },
    {
     "ename": "FileNotFoundError",
     "evalue": "[Errno 2] Unable to synchronously open file (unable to open file: name = '../indexes/ffindex_irds_beir_fiqa_tasb.h5', errno = 2, error message = 'No such file or directory', flags = 0, o_flags = 0)",
     "output_type": "error",
     "traceback": [
      "\u001B[31m---------------------------------------------------------------------------\u001B[39m",
      "\u001B[31mFileNotFoundError\u001B[39m                         Traceback (most recent call last)",
      "\u001B[36mCell\u001B[39m\u001B[36m \u001B[39m\u001B[32mIn[16]\u001B[39m\u001B[32m, line 8\u001B[39m\n\u001B[32m      4\u001B[39m \u001B[38;5;28mprint\u001B[39m(ff_index_path.exists())\n\u001B[32m      6\u001B[39m \u001B[38;5;66;03m# Create parent directory if it doesn't exist.\u001B[39;00m\n\u001B[32m      7\u001B[39m \u001B[38;5;66;03m# try: \u001B[39;00m\n\u001B[32m----> \u001B[39m\u001B[32m8\u001B[39m ff_index = \u001B[43mOnDiskIndex\u001B[49m\u001B[43m.\u001B[49m\u001B[43mload\u001B[49m\u001B[43m(\u001B[49m\n\u001B[32m      9\u001B[39m \u001B[43m    \u001B[49m\u001B[43mff_index_path\u001B[49m\u001B[43m,\u001B[49m\n\u001B[32m     10\u001B[39m \u001B[43m    \u001B[49m\u001B[43mquery_encoder\u001B[49m\u001B[43m=\u001B[49m\u001B[43mq_encoder\u001B[49m\u001B[43m,\u001B[49m\n\u001B[32m     11\u001B[39m \u001B[43m    \u001B[49m\u001B[43mmode\u001B[49m\u001B[43m=\u001B[49m\u001B[43mMode\u001B[49m\u001B[43m.\u001B[49m\u001B[43mMAXP\u001B[49m\u001B[43m,\u001B[49m\n\u001B[32m     12\u001B[39m \u001B[43m)\u001B[49m\n\u001B[32m     13\u001B[39m \u001B[38;5;66;03m# except FileNotFoundError:\u001B[39;00m\n\u001B[32m     14\u001B[39m \u001B[38;5;66;03m#     ff_index_path.parent.mkdir(exist_ok=True, parents=True)\u001B[39;00m\n\u001B[32m     15\u001B[39m \u001B[38;5;66;03m#     ff_index = OnDiskIndex(\u001B[39;00m\n\u001B[32m   (...)\u001B[39m\u001B[32m     24\u001B[39m \u001B[38;5;66;03m# \u001B[39;00m\n\u001B[32m     25\u001B[39m \u001B[38;5;66;03m#     Indexer(ff_index, d_encoder, batch_size=8).from_dicts(docs_iter())\u001B[39;00m\n\u001B[32m     28\u001B[39m ff_index = ff_index.to_memory()\n",
      "\u001B[36mFile \u001B[39m\u001B[32m~/anaconda3/envs/ir-env/lib/python3.12/site-packages/fast_forward/index/disk.py:334\u001B[39m, in \u001B[36mOnDiskIndex.load\u001B[39m\u001B[34m(cls, index_file, query_encoder, mode, encoder_batch_size, resize_min_val, max_indexing_size)\u001B[39m\n\u001B[32m    331\u001B[39m index._max_indexing_size = max_indexing_size\n\u001B[32m    333\u001B[39m \u001B[38;5;66;03m# deserialize quantizer if any\u001B[39;00m\n\u001B[32m--> \u001B[39m\u001B[32m334\u001B[39m \u001B[38;5;28;01mwith\u001B[39;00m \u001B[43mh5py\u001B[49m\u001B[43m.\u001B[49m\u001B[43mFile\u001B[49m\u001B[43m(\u001B[49m\u001B[43mindex_file\u001B[49m\u001B[43m,\u001B[49m\u001B[43m \u001B[49m\u001B[33;43m\"\u001B[39;49m\u001B[33;43mr\u001B[39;49m\u001B[33;43m\"\u001B[39;49m\u001B[43m)\u001B[49m \u001B[38;5;28;01mas\u001B[39;00m fp:\n\u001B[32m    335\u001B[39m     \u001B[38;5;28;01mif\u001B[39;00m \u001B[33m\"\u001B[39m\u001B[33mquantizer\u001B[39m\u001B[33m\"\u001B[39m \u001B[38;5;129;01min\u001B[39;00m fp:\n\u001B[32m    336\u001B[39m         index._quantizer = Quantizer.deserialize(\n\u001B[32m    337\u001B[39m             \u001B[38;5;28mdict\u001B[39m(fp[\u001B[33m\"\u001B[39m\u001B[33mquantizer/meta\u001B[39m\u001B[33m\"\u001B[39m].attrs),  \u001B[38;5;66;03m# pyright: ignore[reportArgumentType]\u001B[39;00m\n\u001B[32m    338\u001B[39m             \u001B[38;5;28mdict\u001B[39m(fp[\u001B[33m\"\u001B[39m\u001B[33mquantizer/attributes\u001B[39m\u001B[33m\"\u001B[39m].attrs),  \u001B[38;5;66;03m# pyright: ignore[reportArgumentType]\u001B[39;00m\n\u001B[32m    339\u001B[39m             {k: v[:] \u001B[38;5;28;01mfor\u001B[39;00m k, v \u001B[38;5;129;01min\u001B[39;00m fp[\u001B[33m\"\u001B[39m\u001B[33mquantizer/data\u001B[39m\u001B[33m\"\u001B[39m].items()},  \u001B[38;5;66;03m# pyright: ignore[reportAttributeAccessIssue]\u001B[39;00m\n\u001B[32m    340\u001B[39m         )\n",
      "\u001B[36mFile \u001B[39m\u001B[32m~/anaconda3/envs/ir-env/lib/python3.12/site-packages/h5py/_hl/files.py:564\u001B[39m, in \u001B[36mFile.__init__\u001B[39m\u001B[34m(self, name, mode, driver, libver, userblock_size, swmr, rdcc_nslots, rdcc_nbytes, rdcc_w0, track_order, fs_strategy, fs_persist, fs_threshold, fs_page_size, page_buf_size, min_meta_keep, min_raw_keep, locking, alignment_threshold, alignment_interval, meta_block_size, **kwds)\u001B[39m\n\u001B[32m    555\u001B[39m     fapl = make_fapl(driver, libver, rdcc_nslots, rdcc_nbytes, rdcc_w0,\n\u001B[32m    556\u001B[39m                      locking, page_buf_size, min_meta_keep, min_raw_keep,\n\u001B[32m    557\u001B[39m                      alignment_threshold=alignment_threshold,\n\u001B[32m    558\u001B[39m                      alignment_interval=alignment_interval,\n\u001B[32m    559\u001B[39m                      meta_block_size=meta_block_size,\n\u001B[32m    560\u001B[39m                      **kwds)\n\u001B[32m    561\u001B[39m     fcpl = make_fcpl(track_order=track_order, fs_strategy=fs_strategy,\n\u001B[32m    562\u001B[39m                      fs_persist=fs_persist, fs_threshold=fs_threshold,\n\u001B[32m    563\u001B[39m                      fs_page_size=fs_page_size)\n\u001B[32m--> \u001B[39m\u001B[32m564\u001B[39m     fid = \u001B[43mmake_fid\u001B[49m\u001B[43m(\u001B[49m\u001B[43mname\u001B[49m\u001B[43m,\u001B[49m\u001B[43m \u001B[49m\u001B[43mmode\u001B[49m\u001B[43m,\u001B[49m\u001B[43m \u001B[49m\u001B[43muserblock_size\u001B[49m\u001B[43m,\u001B[49m\u001B[43m \u001B[49m\u001B[43mfapl\u001B[49m\u001B[43m,\u001B[49m\u001B[43m \u001B[49m\u001B[43mfcpl\u001B[49m\u001B[43m,\u001B[49m\u001B[43m \u001B[49m\u001B[43mswmr\u001B[49m\u001B[43m=\u001B[49m\u001B[43mswmr\u001B[49m\u001B[43m)\u001B[49m\n\u001B[32m    566\u001B[39m \u001B[38;5;28;01mif\u001B[39;00m \u001B[38;5;28misinstance\u001B[39m(libver, \u001B[38;5;28mtuple\u001B[39m):\n\u001B[32m    567\u001B[39m     \u001B[38;5;28mself\u001B[39m._libver = libver\n",
      "\u001B[36mFile \u001B[39m\u001B[32m~/anaconda3/envs/ir-env/lib/python3.12/site-packages/h5py/_hl/files.py:238\u001B[39m, in \u001B[36mmake_fid\u001B[39m\u001B[34m(name, mode, userblock_size, fapl, fcpl, swmr)\u001B[39m\n\u001B[32m    236\u001B[39m     \u001B[38;5;28;01mif\u001B[39;00m swmr \u001B[38;5;129;01mand\u001B[39;00m swmr_support:\n\u001B[32m    237\u001B[39m         flags |= h5f.ACC_SWMR_READ\n\u001B[32m--> \u001B[39m\u001B[32m238\u001B[39m     fid = \u001B[43mh5f\u001B[49m\u001B[43m.\u001B[49m\u001B[43mopen\u001B[49m\u001B[43m(\u001B[49m\u001B[43mname\u001B[49m\u001B[43m,\u001B[49m\u001B[43m \u001B[49m\u001B[43mflags\u001B[49m\u001B[43m,\u001B[49m\u001B[43m \u001B[49m\u001B[43mfapl\u001B[49m\u001B[43m=\u001B[49m\u001B[43mfapl\u001B[49m\u001B[43m)\u001B[49m\n\u001B[32m    239\u001B[39m \u001B[38;5;28;01melif\u001B[39;00m mode == \u001B[33m'\u001B[39m\u001B[33mr+\u001B[39m\u001B[33m'\u001B[39m:\n\u001B[32m    240\u001B[39m     fid = h5f.open(name, h5f.ACC_RDWR, fapl=fapl)\n",
      "\u001B[36mFile \u001B[39m\u001B[32mh5py/_objects.pyx:54\u001B[39m, in \u001B[36mh5py._objects.with_phil.wrapper\u001B[39m\u001B[34m()\u001B[39m\n",
      "\u001B[36mFile \u001B[39m\u001B[32mh5py/_objects.pyx:55\u001B[39m, in \u001B[36mh5py._objects.with_phil.wrapper\u001B[39m\u001B[34m()\u001B[39m\n",
      "\u001B[36mFile \u001B[39m\u001B[32mh5py/h5f.pyx:102\u001B[39m, in \u001B[36mh5py.h5f.open\u001B[39m\u001B[34m()\u001B[39m\n",
      "\u001B[31mFileNotFoundError\u001B[39m: [Errno 2] Unable to synchronously open file (unable to open file: name = '../indexes/ffindex_irds_beir_fiqa_tasb.h5', errno = 2, error message = 'No such file or directory', flags = 0, o_flags = 0)"
     ]
    }
   ],
   "execution_count": 16
  },
  {
   "metadata": {},
   "cell_type": "markdown",
   "source": "### Get scores and setup fusion techniques",
   "id": "fd40e1b1233d43f7"
  },
  {
   "metadata": {
    "ExecuteTime": {
     "end_time": "2025-03-27T13:37:32.845478Z",
     "start_time": "2025-03-27T13:37:26.976002Z"
    }
   },
   "cell_type": "code",
   "source": [
    "ff_score = FFScore(ff_index)\n",
    "candidates = (bm25 % 5)(testset.get_topics())\n",
    "re_ranked = ff_score(candidates)\n",
    "\n",
    "hybrid = bm25 % 1000 >> ff_score\n",
    "ff_int = FFInterpolate(alpha=0.5)\n",
    "ff_int(re_ranked)\n",
    "ff_tm2c2 = FFTM2C2()\n",
    "ff_tm2c2(re_ranked)\n",
    "ff_rrf = FFRRF()\n",
    "ff_srrf = FFSRRF()\n",
    "ff_rrf(re_ranked)\n",
    "ff_srrf(re_ranked)"
   ],
   "id": "9a13079476b8a192",
   "outputs": [
    {
     "name": "stdout",
     "output_type": "stream",
     "text": [
      "21:37:26.995 [main] WARN org.terrier.querying.ApplyTermPipeline -- The index has no termpipelines configuration, and no control configuration is found. Defaulting to global termpipelines configuration of 'Stopwords,PorterStemmer'. Set a termpipelines control to remove this warning.\r\n"
     ]
    },
    {
     "data": {
      "text/plain": [
       "        qid   docno                                              query  \\\n",
       "0      9979   35369  what is the best way to invest in gold as a he...   \n",
       "1      9979   96351  what is the best way to invest in gold as a he...   \n",
       "2      9979  327271  what is the best way to invest in gold as a he...   \n",
       "3      9979  483734  what is the best way to invest in gold as a he...   \n",
       "4      9979   30584  what is the best way to invest in gold as a he...   \n",
       "...     ...     ...                                                ...   \n",
       "3235  10034   44955  tax implications of holding ewu or other such ...   \n",
       "3236  10034  181942  tax implications of holding ewu or other such ...   \n",
       "3237  10034  180146  tax implications of holding ewu or other such ...   \n",
       "3238  10034  197478  tax implications of holding ewu or other such ...   \n",
       "3239  10034  561750  tax implications of holding ewu or other such ...   \n",
       "\n",
       "         score  rank  \n",
       "0     0.004425     0  \n",
       "1     0.002624     2  \n",
       "2     0.002582     3  \n",
       "3     0.002737     1  \n",
       "4     0.001306     4  \n",
       "...        ...   ...  \n",
       "3235  0.001643     0  \n",
       "3236  0.001209     2  \n",
       "3237  0.001062     3  \n",
       "3238  0.001230     1  \n",
       "3239  0.000953     4  \n",
       "\n",
       "[3240 rows x 5 columns]"
      ],
      "text/html": [
       "<div>\n",
       "<style scoped>\n",
       "    .dataframe tbody tr th:only-of-type {\n",
       "        vertical-align: middle;\n",
       "    }\n",
       "\n",
       "    .dataframe tbody tr th {\n",
       "        vertical-align: top;\n",
       "    }\n",
       "\n",
       "    .dataframe thead th {\n",
       "        text-align: right;\n",
       "    }\n",
       "</style>\n",
       "<table border=\"1\" class=\"dataframe\">\n",
       "  <thead>\n",
       "    <tr style=\"text-align: right;\">\n",
       "      <th></th>\n",
       "      <th>qid</th>\n",
       "      <th>docno</th>\n",
       "      <th>query</th>\n",
       "      <th>score</th>\n",
       "      <th>rank</th>\n",
       "    </tr>\n",
       "  </thead>\n",
       "  <tbody>\n",
       "    <tr>\n",
       "      <th>0</th>\n",
       "      <td>9979</td>\n",
       "      <td>35369</td>\n",
       "      <td>what is the best way to invest in gold as a he...</td>\n",
       "      <td>0.004425</td>\n",
       "      <td>0</td>\n",
       "    </tr>\n",
       "    <tr>\n",
       "      <th>1</th>\n",
       "      <td>9979</td>\n",
       "      <td>96351</td>\n",
       "      <td>what is the best way to invest in gold as a he...</td>\n",
       "      <td>0.002624</td>\n",
       "      <td>2</td>\n",
       "    </tr>\n",
       "    <tr>\n",
       "      <th>2</th>\n",
       "      <td>9979</td>\n",
       "      <td>327271</td>\n",
       "      <td>what is the best way to invest in gold as a he...</td>\n",
       "      <td>0.002582</td>\n",
       "      <td>3</td>\n",
       "    </tr>\n",
       "    <tr>\n",
       "      <th>3</th>\n",
       "      <td>9979</td>\n",
       "      <td>483734</td>\n",
       "      <td>what is the best way to invest in gold as a he...</td>\n",
       "      <td>0.002737</td>\n",
       "      <td>1</td>\n",
       "    </tr>\n",
       "    <tr>\n",
       "      <th>4</th>\n",
       "      <td>9979</td>\n",
       "      <td>30584</td>\n",
       "      <td>what is the best way to invest in gold as a he...</td>\n",
       "      <td>0.001306</td>\n",
       "      <td>4</td>\n",
       "    </tr>\n",
       "    <tr>\n",
       "      <th>...</th>\n",
       "      <td>...</td>\n",
       "      <td>...</td>\n",
       "      <td>...</td>\n",
       "      <td>...</td>\n",
       "      <td>...</td>\n",
       "    </tr>\n",
       "    <tr>\n",
       "      <th>3235</th>\n",
       "      <td>10034</td>\n",
       "      <td>44955</td>\n",
       "      <td>tax implications of holding ewu or other such ...</td>\n",
       "      <td>0.001643</td>\n",
       "      <td>0</td>\n",
       "    </tr>\n",
       "    <tr>\n",
       "      <th>3236</th>\n",
       "      <td>10034</td>\n",
       "      <td>181942</td>\n",
       "      <td>tax implications of holding ewu or other such ...</td>\n",
       "      <td>0.001209</td>\n",
       "      <td>2</td>\n",
       "    </tr>\n",
       "    <tr>\n",
       "      <th>3237</th>\n",
       "      <td>10034</td>\n",
       "      <td>180146</td>\n",
       "      <td>tax implications of holding ewu or other such ...</td>\n",
       "      <td>0.001062</td>\n",
       "      <td>3</td>\n",
       "    </tr>\n",
       "    <tr>\n",
       "      <th>3238</th>\n",
       "      <td>10034</td>\n",
       "      <td>197478</td>\n",
       "      <td>tax implications of holding ewu or other such ...</td>\n",
       "      <td>0.001230</td>\n",
       "      <td>1</td>\n",
       "    </tr>\n",
       "    <tr>\n",
       "      <th>3239</th>\n",
       "      <td>10034</td>\n",
       "      <td>561750</td>\n",
       "      <td>tax implications of holding ewu or other such ...</td>\n",
       "      <td>0.000953</td>\n",
       "      <td>4</td>\n",
       "    </tr>\n",
       "  </tbody>\n",
       "</table>\n",
       "<p>3240 rows × 5 columns</p>\n",
       "</div>"
      ]
     },
     "execution_count": 18,
     "metadata": {},
     "output_type": "execute_result"
    }
   ],
   "execution_count": 18
  },
  {
   "metadata": {},
   "cell_type": "markdown",
   "source": "### Experiment/Evaluation",
   "id": "4626ecd1c30e616b"
  },
  {
   "metadata": {
    "ExecuteTime": {
     "end_time": "2025-03-31T00:53:46.945231Z",
     "start_time": "2025-03-31T00:53:46.799002Z"
    }
   },
   "cell_type": "code",
   "source": [
    "result = pt.Experiment(\n",
    "\n",
    "    [bm25, hybrid >> ff_int,  hybrid >> ff_tm2c2],\n",
    "    testset.get_topics(),\n",
    "    testset.get_qrels(),\n",
    "    eval_metrics=[RR @ 10, nDCG @ 10, MAP @ 100],\n",
    "    names=[\"BM25\", \"linear(alpha = 0.5)\", \"TM2C2\"],\n",
    "    baseline=0,\n",
    "    correction=\"bonferroni\"\n",
    ")\n",
    "\n",
    "print(result)"
   ],
   "id": "31c0f12d8068aa50",
   "outputs": [
    {
     "ename": "NameError",
     "evalue": "name 'pt' is not defined",
     "output_type": "error",
     "traceback": [
      "\u001B[31m---------------------------------------------------------------------------\u001B[39m",
      "\u001B[31mNameError\u001B[39m                                 Traceback (most recent call last)",
      "\u001B[36mCell\u001B[39m\u001B[36m \u001B[39m\u001B[32mIn[1]\u001B[39m\u001B[32m, line 1\u001B[39m\n\u001B[32m----> \u001B[39m\u001B[32m1\u001B[39m result = \u001B[43mpt\u001B[49m.Experiment(\n\u001B[32m      2\u001B[39m     [bm25, hybrid >> ff_int,  hybrid >> ff_tm2c2],\n\u001B[32m      3\u001B[39m     testset.get_topics(),\n\u001B[32m      4\u001B[39m     testset.get_qrels(),\n\u001B[32m      5\u001B[39m     eval_metrics=[RR @ \u001B[32m10\u001B[39m, nDCG @ \u001B[32m10\u001B[39m, MAP @ \u001B[32m100\u001B[39m],\n\u001B[32m      6\u001B[39m     names=[\u001B[33m\"\u001B[39m\u001B[33mBM25\u001B[39m\u001B[33m\"\u001B[39m, \u001B[33m\"\u001B[39m\u001B[33mlinear(alpha = 0.5)\u001B[39m\u001B[33m\"\u001B[39m, \u001B[33m\"\u001B[39m\u001B[33mTM2C2\u001B[39m\u001B[33m\"\u001B[39m],\n\u001B[32m      7\u001B[39m     baseline=\u001B[32m0\u001B[39m,\n\u001B[32m      8\u001B[39m     correction=\u001B[33m\"\u001B[39m\u001B[33mbonferroni\u001B[39m\u001B[33m\"\u001B[39m\n\u001B[32m      9\u001B[39m )\n\u001B[32m     11\u001B[39m \u001B[38;5;28mprint\u001B[39m(result)\n",
      "\u001B[31mNameError\u001B[39m: name 'pt' is not defined"
     ]
    }
   ],
   "execution_count": 1
  },
  {
   "metadata": {},
   "cell_type": "markdown",
   "source": "",
   "id": "2b7a401343dcb0ef"
  }
 ],
 "metadata": {
  "kernelspec": {
   "display_name": "Python 3",
   "language": "python",
   "name": "python3"
  },
  "language_info": {
   "codemirror_mode": {
    "name": "ipython",
    "version": 2
   },
   "file_extension": ".py",
   "mimetype": "text/x-python",
   "name": "python",
   "nbconvert_exporter": "python",
   "pygments_lexer": "ipython2",
   "version": "2.7.6"
  }
 },
 "nbformat": 4,
 "nbformat_minor": 5
}
